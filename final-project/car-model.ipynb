{
 "cells": [
  {
   "cell_type": "markdown",
   "metadata": {},
   "source": [
    "# Car Model | Final Project\n",
    "## Bachelor's degree in Economics"
   ]
  },
  {
   "cell_type": "code",
   "execution_count": null,
   "metadata": {},
   "outputs": [],
   "source": [
    "import pandas as pd\n",
    "import numpy as np\n",
    "import matplotlib.pyplot as plt"
   ]
  },
  {
   "cell_type": "code",
   "execution_count": null,
   "metadata": {},
   "outputs": [],
   "source": [
    "car_model_fipe_xlsx = './car_model_fipe.xlsx'\n",
    "\n",
    "df_car_model_fipe = pd.read_excel(car_model_fipe_xlsx, engine='openpyxl')\n",
    "\n",
    "df_car_model_fipe.head()"
   ]
  },
  {
   "cell_type": "code",
   "execution_count": null,
   "metadata": {},
   "outputs": [],
   "source": [
    "def calculate_average_mileage(df):\n",
    "    def calculate_average_line(row):\n",
    "        numeric_values = pd.to_numeric(row, errors='coerce').dropna()\n",
    "        if not numeric_values.empty:\n",
    "            return numeric_values.mean()\n",
    "        else:\n",
    "            return 'No information'\n",
    "    mileage_columns = ['mileage_1', 'mileage_2', 'mileage_3', 'mileage_4', 'mileage_5']\n",
    "    df_mileage = df[mileage_columns].replace('No information', np.nan)\n",
    "    return df_mileage.apply(calculate_average_line, axis=1)\n",
    "\n",
    "def add_average_mileage_to_df(df_car_model_fipe):\n",
    "    df_car_model_fipe['average_mileage'] = calculate_average_mileage(df_car_model_fipe)\n",
    "    df_car_model_fipe = df_car_model_fipe.drop(columns=['mileage_1', 'mileage_2', 'mileage_3', 'mileage_4', 'mileage_5'])\n",
    "    return df_car_model_fipe\n",
    "\n",
    "df_car_model_fipe = add_average_mileage_to_df(df_car_model_fipe)"
   ]
  },
  {
   "cell_type": "code",
   "execution_count": null,
   "metadata": {},
   "outputs": [],
   "source": [
    "df_car_model_fipe.head()"
   ]
  },
  {
   "cell_type": "code",
   "execution_count": null,
   "metadata": {},
   "outputs": [],
   "source": [
    "from sklearn.model_selection import train_test_split\n",
    "\n",
    "X = df_car_model_fipe.drop(columns=['average_fipe_price'])\n",
    "y = df_car_model_fipe['average_fipe_price']\n",
    "\n",
    "X_train, X_test, y_train, y_test = train_test_split(\n",
    "    X, y, test_size=0.2, random_state=42 \n",
    ")\n",
    "\n",
    "print(X_train.info())"
   ]
  },
  {
   "cell_type": "code",
   "execution_count": null,
   "metadata": {},
   "outputs": [],
   "source": [
    "cat_features = ['model', 'year_model', 'capacity_model', 'power_model', 'doors_model', 'average_mileage']\n",
    "\n",
    "for col in cat_features:\n",
    "    X_train[col] = X_train[col].astype('category')\n",
    "    X_test[col] = X_test[col].astype('category')\n",
    "\n",
    "X_train['average_mileage'] = X_train['average_mileage'].astype(str)\n",
    "X_test['average_mileage'] = X_test['average_mileage'].astype(str)\n",
    "\n",
    "print(X_train.info())"
   ]
  },
  {
   "cell_type": "code",
   "execution_count": null,
   "metadata": {},
   "outputs": [],
   "source": [
    "from sklearn.model_selection import GridSearchCV\n",
    "\n",
    "param_grid = {\n",
    "    'iterations': [100, 200],\n",
    "    'learning_rate': [0.05, 0.1],\n",
    "    'depth': [4, 6]\n",
    "}\n",
    "\n",
    "from catboost import CatBoostRegressor\n",
    "\n",
    "catboost = CatBoostRegressor(\n",
    "    cat_features=cat_features,\n",
    "    verbose=0,\n",
    "    random_state=42\n",
    ")\n",
    "\n",
    "grid_search = GridSearchCV(\n",
    "    estimator=catboost,\n",
    "    param_grid=param_grid,\n",
    "    cv=5,\n",
    "    scoring='neg_mean_absolute_error',\n",
    "    verbose=2,\n",
    "    error_score='raise'\n",
    ")\n",
    "\n",
    "grid_search.fit(X_train, y_train)\n",
    "\n",
    "from sklearn.metrics import mean_absolute_error\n",
    "\n",
    "best_model = grid_search.best_estimator_\n",
    "print(f\"Better parameters: {grid_search.best_params_}\")\n",
    "\n",
    "y_pred = best_model.predict(X_test)\n",
    "\n",
    "mae = mean_absolute_error(y_test, y_pred)\n",
    "print(f\"MAE of CatBoost: {mae}\")"
   ]
  },
  {
   "cell_type": "code",
   "execution_count": null,
   "metadata": {},
   "outputs": [],
   "source": [
    "cat_features = ['model', 'year_model', 'capacity_model', 'power_model', 'doors_model', 'average_mileage']\n",
    "\n",
    "for col in cat_features:\n",
    "    df_car_model_fipe[col] = df_car_model_fipe[col].astype('category')\n",
    "\n",
    "print(df_car_model_fipe.info())"
   ]
  },
  {
   "cell_type": "code",
   "execution_count": null,
   "metadata": {},
   "outputs": [],
   "source": [
    "cols = ['model', 'year_model', 'capacity_model', 'power_model', 'doors_model', 'average_mileage']\n",
    "df_car_model_fipe_predict = df_car_model_fipe[cols].copy()\n",
    "df_car_model_fipe_predict['average_mileage'] = df_car_model_fipe_predict['average_mileage'].astype(str)\n",
    "\n",
    "df_car_model_fipe_predict['average_fipe_price'] = df_car_model_fipe['average_fipe_price']\n",
    "\n",
    "df_car_model_fipe_predict['expected_price_ai'] = best_model.predict(df_car_model_fipe_predict)\n",
    "\n",
    "print(\"Simulated ads with price suggested by AI:\")\n",
    "print(df_car_model_fipe_predict)"
   ]
  },
  {
   "cell_type": "code",
   "execution_count": null,
   "metadata": {},
   "outputs": [],
   "source": [
    "print(best_model.feature_names_)"
   ]
  },
  {
   "cell_type": "code",
   "execution_count": null,
   "metadata": {},
   "outputs": [],
   "source": [
    "def rate_fipe_price(expected_price_ai, average_fipe_price):\n",
    "    diff = abs(expected_price_ai - average_fipe_price) / average_fipe_price * 100\n",
    "    if diff <= 10:\n",
    "        return \"Fair\" # 🟢\n",
    "    elif diff <= 20:\n",
    "        return \"Moderate\" # 🟡\n",
    "    else:\n",
    "        return \"Expensive\" # 🔴\n",
    "\n",
    "df_car_model_fipe_predict['lighthouse_fipe'] = df_car_model_fipe_predict.apply(lambda x: rate_fipe_price(x['expected_price_ai'], x['average_fipe_price']), axis=1)\n",
    "\n",
    "df_car_model_fipe_predict['anchor_price_fipe'] = df_car_model_fipe_predict['average_fipe_price'] * 1.15\n",
    "\n",
    "def rate_fipe_anchor_price(anchor_price_fipe, average_fipe_price):\n",
    "    diff = abs(anchor_price_fipe - average_fipe_price) / average_fipe_price * 100\n",
    "    if diff <= 10:\n",
    "        return \"Fair\" # 🟢\n",
    "    elif diff <= 20:\n",
    "        return \"Moderate\" # 🟡\n",
    "    else:\n",
    "        return \"Expensive\" # 🔴\n",
    "\n",
    "df_car_model_fipe_predict['lighthouse_anchor_fipe'] = df_car_model_fipe_predict.apply(lambda x: rate_fipe_anchor_price(x['anchor_price_fipe'], x['average_fipe_price']), axis=1)\n",
    "\n",
    "print(\"\\nTraffic light ads:\")\n",
    "print(df_car_model_fipe_predict)"
   ]
  },
  {
   "cell_type": "code",
   "execution_count": null,
   "metadata": {},
   "outputs": [],
   "source": [
    "feature_importances = best_model.get_feature_importance()\n",
    "feature_names = X_train.columns\n",
    "\n",
    "importance_df = pd.DataFrame({\n",
    "    'Features': feature_names,\n",
    "    'Importance (%)': (feature_importances / feature_importances.sum()) * 100\n",
    "}).sort_values(by='Importance (%)', ascending=False)\n",
    "\n",
    "print(importance_df)\n",
    "\n",
    "plt.figure(figsize=(10, 5))\n",
    "plt.barh(importance_df['Features'], importance_df['Importance (%)'], color='skyblue')\n",
    "plt.xlabel('Importance (%)')\n",
    "plt.ylabel('Features')\n",
    "plt.title('Importance of the Features in the Model')\n",
    "plt.gca().invert_yaxis()\n",
    "plt.show()"
   ]
  },
  {
   "cell_type": "code",
   "execution_count": null,
   "metadata": {},
   "outputs": [],
   "source": [
    "df_car_model_fipe_predict.to_excel(\"car_model_AI_XAI.xlsx\", index=False, engine='openpyxl')\n",
    "\n",
    "print(\"Extraction completed. File saved.\")"
   ]
  }
 ],
 "metadata": {
  "kernelspec": {
   "display_name": "venv",
   "language": "python",
   "name": "python3"
  },
  "language_info": {
   "codemirror_mode": {
    "name": "ipython",
    "version": 3
   },
   "file_extension": ".py",
   "mimetype": "text/x-python",
   "name": "python",
   "nbconvert_exporter": "python",
   "pygments_lexer": "ipython3",
   "version": "3.12.0"
  }
 },
 "nbformat": 4,
 "nbformat_minor": 2
}
