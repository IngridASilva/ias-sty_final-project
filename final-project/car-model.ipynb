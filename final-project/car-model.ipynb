{
 "cells": [
  {
   "cell_type": "markdown",
   "metadata": {},
   "source": [
    "# Car Model | Final Project\n",
    "## Bachelor's degree in Economics"
   ]
  },
  {
   "cell_type": "code",
   "execution_count": 1,
   "metadata": {},
   "outputs": [],
   "source": [
    "import pandas as pd\n",
    "import numpy as np"
   ]
  },
  {
   "cell_type": "code",
   "execution_count": 2,
   "metadata": {},
   "outputs": [
    {
     "data": {
      "text/html": [
       "<div>\n",
       "<style scoped>\n",
       "    .dataframe tbody tr th:only-of-type {\n",
       "        vertical-align: middle;\n",
       "    }\n",
       "\n",
       "    .dataframe tbody tr th {\n",
       "        vertical-align: top;\n",
       "    }\n",
       "\n",
       "    .dataframe thead th {\n",
       "        text-align: right;\n",
       "    }\n",
       "</style>\n",
       "<table border=\"1\" class=\"dataframe\">\n",
       "  <thead>\n",
       "    <tr style=\"text-align: right;\">\n",
       "      <th></th>\n",
       "      <th>model</th>\n",
       "      <th>year_model</th>\n",
       "      <th>average_fipe_price</th>\n",
       "      <th>capacity_model</th>\n",
       "      <th>power_model</th>\n",
       "      <th>doors_model</th>\n",
       "    </tr>\n",
       "  </thead>\n",
       "  <tbody>\n",
       "    <tr>\n",
       "      <th>0</th>\n",
       "      <td>Polo 1.0 Flex 12V 5p</td>\n",
       "      <td>2022</td>\n",
       "      <td>70403</td>\n",
       "      <td>10</td>\n",
       "      <td>12</td>\n",
       "      <td>5</td>\n",
       "    </tr>\n",
       "    <tr>\n",
       "      <th>1</th>\n",
       "      <td>Polo 1.0 Flex 12V 5p</td>\n",
       "      <td>2021</td>\n",
       "      <td>68144</td>\n",
       "      <td>10</td>\n",
       "      <td>12</td>\n",
       "      <td>5</td>\n",
       "    </tr>\n",
       "    <tr>\n",
       "      <th>2</th>\n",
       "      <td>Polo 1.0 Flex 12V 5p</td>\n",
       "      <td>2020</td>\n",
       "      <td>63417</td>\n",
       "      <td>10</td>\n",
       "      <td>12</td>\n",
       "      <td>5</td>\n",
       "    </tr>\n",
       "    <tr>\n",
       "      <th>3</th>\n",
       "      <td>Polo 1.0 Flex 12V 5p</td>\n",
       "      <td>2019</td>\n",
       "      <td>61870</td>\n",
       "      <td>10</td>\n",
       "      <td>12</td>\n",
       "      <td>5</td>\n",
       "    </tr>\n",
       "    <tr>\n",
       "      <th>4</th>\n",
       "      <td>Polo 1.0 Flex 12V 5p</td>\n",
       "      <td>2018</td>\n",
       "      <td>59891</td>\n",
       "      <td>10</td>\n",
       "      <td>12</td>\n",
       "      <td>5</td>\n",
       "    </tr>\n",
       "  </tbody>\n",
       "</table>\n",
       "</div>"
      ],
      "text/plain": [
       "                  model  year_model  average_fipe_price  capacity_model  \\\n",
       "0  Polo 1.0 Flex 12V 5p        2022               70403              10   \n",
       "1  Polo 1.0 Flex 12V 5p        2021               68144              10   \n",
       "2  Polo 1.0 Flex 12V 5p        2020               63417              10   \n",
       "3  Polo 1.0 Flex 12V 5p        2019               61870              10   \n",
       "4  Polo 1.0 Flex 12V 5p        2018               59891              10   \n",
       "\n",
       "   power_model  doors_model  \n",
       "0           12            5  \n",
       "1           12            5  \n",
       "2           12            5  \n",
       "3           12            5  \n",
       "4           12            5  "
      ]
     },
     "execution_count": 2,
     "metadata": {},
     "output_type": "execute_result"
    }
   ],
   "source": [
    "car_model_fipe_xlsx = './car_model_fipe.xlsx'\n",
    "\n",
    "df_car_model_fipe = pd.read_excel(car_model_fipe_xlsx, engine='openpyxl')\n",
    "\n",
    "df_car_model_fipe.head()"
   ]
  },
  {
   "cell_type": "code",
   "execution_count": 3,
   "metadata": {},
   "outputs": [
    {
     "name": "stdout",
     "output_type": "stream",
     "text": [
      "<class 'pandas.core.frame.DataFrame'>\n",
      "Index: 142 entries, 158 to 102\n",
      "Data columns (total 5 columns):\n",
      " #   Column          Non-Null Count  Dtype \n",
      "---  ------          --------------  ----- \n",
      " 0   model           142 non-null    object\n",
      " 1   year_model      142 non-null    int64 \n",
      " 2   capacity_model  142 non-null    int64 \n",
      " 3   power_model     142 non-null    int64 \n",
      " 4   doors_model     142 non-null    int64 \n",
      "dtypes: int64(4), object(1)\n",
      "memory usage: 6.7+ KB\n",
      "None\n"
     ]
    }
   ],
   "source": [
    "from sklearn.model_selection import train_test_split\n",
    "\n",
    "X = df_car_model_fipe.drop(columns=['average_fipe_price'])\n",
    "y = df_car_model_fipe['average_fipe_price']\n",
    "\n",
    "X_train, X_test, y_train, y_test = train_test_split(\n",
    "    X, y, test_size=0.2, random_state=42 \n",
    ")\n",
    "\n",
    "print(X_train.info())"
   ]
  },
  {
   "cell_type": "code",
   "execution_count": 4,
   "metadata": {},
   "outputs": [
    {
     "name": "stdout",
     "output_type": "stream",
     "text": [
      "<class 'pandas.core.frame.DataFrame'>\n",
      "Index: 142 entries, 158 to 102\n",
      "Data columns (total 5 columns):\n",
      " #   Column          Non-Null Count  Dtype   \n",
      "---  ------          --------------  -----   \n",
      " 0   model           142 non-null    category\n",
      " 1   year_model      142 non-null    category\n",
      " 2   capacity_model  142 non-null    category\n",
      " 3   power_model     142 non-null    category\n",
      " 4   doors_model     142 non-null    category\n",
      "dtypes: category(5)\n",
      "memory usage: 4.9 KB\n",
      "None\n"
     ]
    }
   ],
   "source": [
    "cat_features = ['model', 'year_model', 'capacity_model', 'power_model', 'doors_model']\n",
    "\n",
    "for col in cat_features:\n",
    "    X_train[col] = X_train[col].astype('category')\n",
    "    X_test[col] = X_test[col].astype('category')\n",
    "\n",
    "print(X_train.info())"
   ]
  },
  {
   "cell_type": "code",
   "execution_count": 5,
   "metadata": {},
   "outputs": [
    {
     "name": "stdout",
     "output_type": "stream",
     "text": [
      "Fitting 5 folds for each of 8 candidates, totalling 40 fits\n",
      "[CV] END ........depth=4, iterations=100, learning_rate=0.05; total time=  11.5s\n",
      "[CV] END ........depth=4, iterations=100, learning_rate=0.05; total time=  11.3s\n",
      "[CV] END ........depth=4, iterations=100, learning_rate=0.05; total time=  10.4s\n",
      "[CV] END ........depth=4, iterations=100, learning_rate=0.05; total time=  10.5s\n",
      "[CV] END ........depth=4, iterations=100, learning_rate=0.05; total time=  10.9s\n",
      "[CV] END .........depth=4, iterations=100, learning_rate=0.1; total time=  10.9s\n",
      "[CV] END .........depth=4, iterations=100, learning_rate=0.1; total time=  11.7s\n",
      "[CV] END .........depth=4, iterations=100, learning_rate=0.1; total time=  10.5s\n",
      "[CV] END .........depth=4, iterations=100, learning_rate=0.1; total time=  10.1s\n",
      "[CV] END .........depth=4, iterations=100, learning_rate=0.1; total time=  11.5s\n",
      "[CV] END ........depth=4, iterations=200, learning_rate=0.05; total time=  21.8s\n",
      "[CV] END ........depth=4, iterations=200, learning_rate=0.05; total time=  21.7s\n",
      "[CV] END ........depth=4, iterations=200, learning_rate=0.05; total time=  22.6s\n",
      "[CV] END ........depth=4, iterations=200, learning_rate=0.05; total time=  23.4s\n",
      "[CV] END ........depth=4, iterations=200, learning_rate=0.05; total time=  22.0s\n",
      "[CV] END .........depth=4, iterations=200, learning_rate=0.1; total time=  21.9s\n",
      "[CV] END .........depth=4, iterations=200, learning_rate=0.1; total time=  22.9s\n",
      "[CV] END .........depth=4, iterations=200, learning_rate=0.1; total time=  24.5s\n",
      "[CV] END .........depth=4, iterations=200, learning_rate=0.1; total time=  22.3s\n",
      "[CV] END .........depth=4, iterations=200, learning_rate=0.1; total time=  23.2s\n",
      "[CV] END ........depth=6, iterations=100, learning_rate=0.05; total time=  13.5s\n",
      "[CV] END ........depth=6, iterations=100, learning_rate=0.05; total time=  14.5s\n",
      "[CV] END ........depth=6, iterations=100, learning_rate=0.05; total time=  13.8s\n",
      "[CV] END ........depth=6, iterations=100, learning_rate=0.05; total time=  15.2s\n",
      "[CV] END ........depth=6, iterations=100, learning_rate=0.05; total time=  14.1s\n",
      "[CV] END .........depth=6, iterations=100, learning_rate=0.1; total time=  14.0s\n",
      "[CV] END .........depth=6, iterations=100, learning_rate=0.1; total time=  17.1s\n",
      "[CV] END .........depth=6, iterations=100, learning_rate=0.1; total time=  16.8s\n",
      "[CV] END .........depth=6, iterations=100, learning_rate=0.1; total time=  14.8s\n",
      "[CV] END .........depth=6, iterations=100, learning_rate=0.1; total time=  14.7s\n",
      "[CV] END ........depth=6, iterations=200, learning_rate=0.05; total time=  25.3s\n",
      "[CV] END ........depth=6, iterations=200, learning_rate=0.05; total time=  28.1s\n",
      "[CV] END ........depth=6, iterations=200, learning_rate=0.05; total time=  29.4s\n",
      "[CV] END ........depth=6, iterations=200, learning_rate=0.05; total time=  28.8s\n",
      "[CV] END ........depth=6, iterations=200, learning_rate=0.05; total time=  28.5s\n",
      "[CV] END .........depth=6, iterations=200, learning_rate=0.1; total time=  24.4s\n",
      "[CV] END .........depth=6, iterations=200, learning_rate=0.1; total time=  25.6s\n",
      "[CV] END .........depth=6, iterations=200, learning_rate=0.1; total time=  26.4s\n",
      "[CV] END .........depth=6, iterations=200, learning_rate=0.1; total time=  28.8s\n",
      "[CV] END .........depth=6, iterations=200, learning_rate=0.1; total time=  28.6s\n",
      "Better parameters: {'depth': 4, 'iterations': 200, 'learning_rate': 0.1}\n",
      "MAE of CatBoost: 4279.3588401059615\n"
     ]
    }
   ],
   "source": [
    "from sklearn.model_selection import GridSearchCV\n",
    "\n",
    "param_grid = {\n",
    "    'iterations': [100, 200],\n",
    "    'learning_rate': [0.05, 0.1],\n",
    "    'depth': [4, 6]\n",
    "}\n",
    "\n",
    "from catboost import CatBoostRegressor\n",
    "\n",
    "catboost = CatBoostRegressor(\n",
    "    cat_features=cat_features,\n",
    "    verbose=0,\n",
    "    random_state=42\n",
    ")\n",
    "\n",
    "grid_search = GridSearchCV(\n",
    "    estimator=catboost,\n",
    "    param_grid=param_grid,\n",
    "    cv=5,\n",
    "    scoring='neg_mean_absolute_error',\n",
    "    verbose=2,\n",
    "    error_score='raise'\n",
    ")\n",
    "\n",
    "grid_search.fit(X_train, y_train)\n",
    "\n",
    "from sklearn.metrics import mean_absolute_error\n",
    "\n",
    "best_model = grid_search.best_estimator_\n",
    "print(f\"Better parameters: {grid_search.best_params_}\")\n",
    "\n",
    "y_pred = best_model.predict(X_test)\n",
    "\n",
    "mae = mean_absolute_error(y_test, y_pred)\n",
    "print(f\"MAE of CatBoost: {mae}\")"
   ]
  },
  {
   "cell_type": "code",
   "execution_count": 6,
   "metadata": {},
   "outputs": [
    {
     "name": "stdout",
     "output_type": "stream",
     "text": [
      "<class 'pandas.core.frame.DataFrame'>\n",
      "RangeIndex: 178 entries, 0 to 177\n",
      "Data columns (total 6 columns):\n",
      " #   Column              Non-Null Count  Dtype   \n",
      "---  ------              --------------  -----   \n",
      " 0   model               178 non-null    category\n",
      " 1   year_model          178 non-null    category\n",
      " 2   average_fipe_price  178 non-null    int64   \n",
      " 3   capacity_model      178 non-null    category\n",
      " 4   power_model         178 non-null    category\n",
      " 5   doors_model         178 non-null    category\n",
      "dtypes: category(5), int64(1)\n",
      "memory usage: 5.5 KB\n",
      "None\n"
     ]
    }
   ],
   "source": [
    "cat_features = ['model', 'year_model', 'capacity_model', 'power_model', 'doors_model']\n",
    "\n",
    "for col in cat_features:\n",
    "    df_car_model_fipe[col] = df_car_model_fipe[col].astype('category')\n",
    "\n",
    "print(df_car_model_fipe.info())"
   ]
  },
  {
   "cell_type": "code",
   "execution_count": 7,
   "metadata": {},
   "outputs": [
    {
     "name": "stdout",
     "output_type": "stream",
     "text": [
      "Simulated ads with price suggested by AI:\n",
      "                                      model year_model capacity_model  \\\n",
      "0                      Polo 1.0 Flex 12V 5p       2022             10   \n",
      "1                      Polo 1.0 Flex 12V 5p       2021             10   \n",
      "2                      Polo 1.0 Flex 12V 5p       2020             10   \n",
      "3                      Polo 1.0 Flex 12V 5p       2019             10   \n",
      "4                      Polo 1.0 Flex 12V 5p       2018             10   \n",
      "..                                      ...        ...            ...   \n",
      "173              Polo Track 1.0 Flex 12V 5p       2023             10   \n",
      "174       Polo Track Robust 1.0 Flex 12V 5p       2025             10   \n",
      "175       Polo Track Robust 1.0 Flex 12V 5p       2025             10   \n",
      "176  Polo Track Rock in Rio 1.0 Flex 12V 5p       2025             10   \n",
      "177  Polo Track Rock in Rio 1.0 Flex 12V 5p       2025             10   \n",
      "\n",
      "    power_model doors_model  average_fipe_price  expected_price_ai  \n",
      "0            12           5               70403       79053.945599  \n",
      "1            12           5               68144       77688.349486  \n",
      "2            12           5               63417       77688.349486  \n",
      "3            12           5               61870       72773.335692  \n",
      "4            12           5               59891       71050.628863  \n",
      "..          ...         ...                 ...                ...  \n",
      "173          12           5               72197       80057.151039  \n",
      "174          12           5               92420       87575.064631  \n",
      "175          12           5               81485       87575.064631  \n",
      "176          12           5               92563       96604.560274  \n",
      "177          12           5               83197       96604.560274  \n",
      "\n",
      "[178 rows x 7 columns]\n"
     ]
    }
   ],
   "source": [
    "cols = ['model', 'year_model', 'capacity_model', 'power_model', 'doors_model']\n",
    "df_car_model_fipe_predict = df_car_model_fipe[cols].copy() \n",
    "\n",
    "df_car_model_fipe_predict['average_fipe_price'] = df_car_model_fipe['average_fipe_price']\n",
    "\n",
    "df_car_model_fipe_predict['expected_price_ai'] = best_model.predict(df_car_model_fipe_predict)\n",
    "\n",
    "print(\"Simulated ads with price suggested by AI:\")\n",
    "print(df_car_model_fipe_predict)"
   ]
  },
  {
   "cell_type": "code",
   "execution_count": 8,
   "metadata": {},
   "outputs": [
    {
     "name": "stdout",
     "output_type": "stream",
     "text": [
      "\n",
      "Traffic light ads:\n",
      "                                      model year_model capacity_model  \\\n",
      "0                      Polo 1.0 Flex 12V 5p       2022             10   \n",
      "1                      Polo 1.0 Flex 12V 5p       2021             10   \n",
      "2                      Polo 1.0 Flex 12V 5p       2020             10   \n",
      "3                      Polo 1.0 Flex 12V 5p       2019             10   \n",
      "4                      Polo 1.0 Flex 12V 5p       2018             10   \n",
      "..                                      ...        ...            ...   \n",
      "173              Polo Track 1.0 Flex 12V 5p       2023             10   \n",
      "174       Polo Track Robust 1.0 Flex 12V 5p       2025             10   \n",
      "175       Polo Track Robust 1.0 Flex 12V 5p       2025             10   \n",
      "176  Polo Track Rock in Rio 1.0 Flex 12V 5p       2025             10   \n",
      "177  Polo Track Rock in Rio 1.0 Flex 12V 5p       2025             10   \n",
      "\n",
      "    power_model doors_model  average_fipe_price  expected_price_ai  \\\n",
      "0            12           5               70403       79053.945599   \n",
      "1            12           5               68144       77688.349486   \n",
      "2            12           5               63417       77688.349486   \n",
      "3            12           5               61870       72773.335692   \n",
      "4            12           5               59891       71050.628863   \n",
      "..          ...         ...                 ...                ...   \n",
      "173          12           5               72197       80057.151039   \n",
      "174          12           5               92420       87575.064631   \n",
      "175          12           5               81485       87575.064631   \n",
      "176          12           5               92563       96604.560274   \n",
      "177          12           5               83197       96604.560274   \n",
      "\n",
      "    lighthouse_fipe  anchor_price_fipe lighthouse_anchor_fipe  \\\n",
      "0          Moderate       66173.945641                   Fair   \n",
      "1          Moderate       73357.487443                   Fair   \n",
      "2         Expensive       72852.133224               Moderate   \n",
      "3          Moderate       64278.840720                   Fair   \n",
      "4          Moderate       54834.894963                   Fair   \n",
      "..              ...                ...                    ...   \n",
      "173        Moderate       70374.462276                   Fair   \n",
      "174            Fair       94302.782332                   Fair   \n",
      "175            Fair       82473.525660                   Fair   \n",
      "176            Fair      108162.027984               Moderate   \n",
      "177        Moderate       87243.735956                   Fair   \n",
      "\n",
      "     anchor_price_ai lighthouse_anchor_ai  \n",
      "0       92390.831895            Expensive  \n",
      "1       87509.905952            Expensive  \n",
      "2       84226.358302            Expensive  \n",
      "3       67259.541551                 Fair  \n",
      "4       80547.985750            Expensive  \n",
      "..               ...                  ...  \n",
      "173     84136.275323             Moderate  \n",
      "174     89449.703105                 Fair  \n",
      "175     92622.392563             Moderate  \n",
      "176     92358.346797                 Fair  \n",
      "177    105657.825375            Expensive  \n",
      "\n",
      "[178 rows x 12 columns]\n"
     ]
    }
   ],
   "source": [
    "def avaliar_preco_fipe(expected_price_ai, average_fipe_price):\n",
    "    diff = abs(expected_price_ai - average_fipe_price) / average_fipe_price * 100\n",
    "    if diff <= 10:\n",
    "        return \"Fair\" # 🟢\n",
    "    elif diff <= 20:\n",
    "        return \"Moderate\" # 🟡\n",
    "    else:\n",
    "        return \"Expensive\" # 🔴\n",
    "\n",
    "df_car_model_fipe_predict['lighthouse_fipe'] = df_car_model_fipe_predict.apply(lambda x: avaliar_preco_fipe(x['expected_price_ai'], x['average_fipe_price']), axis=1)\n",
    "\n",
    "df_car_model_fipe_predict['anchor_price_fipe'] = df_car_model_fipe_predict['average_fipe_price'] * np.random.uniform(0.9, 1.2, len(df_car_model_fipe_predict))\n",
    "\n",
    "def avaliar_preco_anchor_fipe(anchor_price_fipe, average_fipe_price):\n",
    "    diff = abs(anchor_price_fipe - average_fipe_price) / average_fipe_price * 100\n",
    "    if diff <= 10:\n",
    "        return \"Fair\" # 🟢\n",
    "    elif diff <= 20:\n",
    "        return \"Moderate\" # 🟡\n",
    "    else:\n",
    "        return \"Expensive\" # 🔴\n",
    "\n",
    "df_car_model_fipe_predict['lighthouse_anchor_fipe'] = df_car_model_fipe_predict.apply(lambda x: avaliar_preco_anchor_fipe(x['anchor_price_fipe'], x['average_fipe_price']), axis=1)\n",
    "\n",
    "df_car_model_fipe_predict['anchor_price_ai'] = df_car_model_fipe_predict['expected_price_ai'] * np.random.uniform(0.9, 1.2, len(df_car_model_fipe_predict))\n",
    "\n",
    "def avaliar_preco_anchor_ai(anchor_price_ai, average_fipe_price):\n",
    "    diff = abs(anchor_price_ai - average_fipe_price) / average_fipe_price * 100\n",
    "    if diff <= 10:\n",
    "        return \"Fair\" # 🟢\n",
    "    elif diff <= 20:\n",
    "        return \"Moderate\" # 🟡\n",
    "    else:\n",
    "        return \"Expensive\" # 🔴\n",
    "\n",
    "df_car_model_fipe_predict['lighthouse_anchor_ai'] = df_car_model_fipe_predict.apply(lambda x: avaliar_preco_anchor_ai(x['anchor_price_ai'], x['average_fipe_price']), axis=1)\n",
    "\n",
    "print(\"\\nTraffic light ads:\")\n",
    "print(df_car_model_fipe_predict)"
   ]
  },
  {
   "cell_type": "code",
   "execution_count": 12,
   "metadata": {},
   "outputs": [
    {
     "name": "stdout",
     "output_type": "stream",
     "text": [
      "         Features  Importance (%)\n",
      "3     power_model       53.751927\n",
      "2  capacity_model       19.711158\n",
      "1      year_model       14.248078\n",
      "4     doors_model        9.215024\n",
      "0           model        3.073813\n"
     ]
    },
    {
     "data": {
      "image/png": "[encoded data removed]",
      "text/plain": [
       "<Figure size 1000x500 with 1 Axes>"
      ]
     },
     "metadata": {},
     "output_type": "display_data"
    }
   ],
   "source": [
    "import pandas as pd\n",
    "import matplotlib.pyplot as plt\n",
    "\n",
    "feature_importances = best_model.get_feature_importance()\n",
    "feature_names = X_train.columns\n",
    "\n",
    "importance_df = pd.DataFrame({\n",
    "    'Features': feature_names,\n",
    "    'Importance (%)': (feature_importances / feature_importances.sum()) * 100\n",
    "}).sort_values(by='Importance (%)', ascending=False)\n",
    "\n",
    "print(importance_df)\n",
    "\n",
    "plt.figure(figsize=(10, 5))\n",
    "plt.barh(importance_df['Features'], importance_df['Importance (%)'], color='skyblue')\n",
    "plt.xlabel('Importance (%)')\n",
    "plt.ylabel('Features')\n",
    "plt.title('Importance of the Features in the Model')\n",
    "plt.gca().invert_yaxis()\n",
    "plt.show()"
   ]
  },
  {
   "cell_type": "code",
   "execution_count": 9,
   "metadata": {},
   "outputs": [
    {
     "name": "stdout",
     "output_type": "stream",
     "text": [
      "Extraction completed. File saved.\n"
     ]
    }
   ],
   "source": [
    "df_car_model_fipe_predict.to_excel(\"car_model_AI_XAI.xlsx\", index=False, engine='openpyxl')\n",
    "\n",
    "print(\"Extraction completed. File saved.\")"
   ]
  }
 ],
 "metadata": {
  "kernelspec": {
   "display_name": "venv",
   "language": "python",
   "name": "python3"
  },
  "language_info": {
   "codemirror_mode": {
    "name": "ipython",
    "version": 3
   },
   "file_extension": ".py",
   "mimetype": "text/x-python",
   "name": "python",
   "nbconvert_exporter": "python",
   "pygments_lexer": "ipython3",
   "version": "3.12.0"
  }
 },
 "nbformat": 4,
 "nbformat_minor": 2
}
